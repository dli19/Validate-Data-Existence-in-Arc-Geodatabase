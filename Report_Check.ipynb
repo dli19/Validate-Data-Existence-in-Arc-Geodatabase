{
 "cells": [
  {
   "cell_type": "code",
   "execution_count": 1,
   "metadata": {},
   "outputs": [
    {
     "name": "stdout",
     "output_type": "stream",
     "text": [
      "The total number of address points in ADCOM_SSAP is 228459\n",
      "The total number of addresses for the respective month of the Excel sheet is 87\n",
      "There are new addresses to be added, and they are listing below!!\n",
      "14700 104TH AVE BLDG\n",
      "14700 104TH AVE BLDG\n",
      "14700 104TH AVE BLDG\n",
      "14700 104TH AVE BLDG\n",
      "14700 104TH AVE BLDG\n",
      "14700 104TH AVE BLDG\n",
      "10597 PARIS ST UNIT\n",
      "10597 PARIS ST UNIT\n",
      "Done!\n"
     ]
    }
   ],
   "source": [
    "## Report Sample: June 2021 ##\n",
    "\n",
    "\n",
    "import arcpy, os, xlrd\n",
    "\n",
    "#Assign existing GIS feature file path to variable \"adp\"\n",
    "adp = \"C:/GIS/Master_Working/Master_Working.gdb/ADCOM_SSAP_MERGED_SCHEMA\"\n",
    "\n",
    "#Make sure the Excel file is saved in xls format (As in July, 2022)\n",
    "report = 'June 2021.xls'\n",
    "\n",
    "#Assign newest monthly report excel file path to variable \"fileL\"\n",
    "fileL = f\"F:/Jim Li (jli)/Adam Monthly Planning Report/{report}\"\n",
    "\n",
    "#Apply open_workbook funtion from the xlrd library, and assign the Excel file to a variable named \"wb\"\n",
    "wb = xlrd.open_workbook(fileL)\n",
    "\n",
    "#Apply sheet_by_index function from the xlrd library, and assign the value to a variable named \"sheet\"\n",
    "#Sheets in Microsoft Excel are starting with index 0\n",
    "#The sheet to be processed is in sheet1 of the excel file, in this case its index is 1\n",
    "sheet = wb.sheet_by_index(1)\n",
    "\n",
    "#Create three empty lists for later data stored\n",
    "coLis = []\n",
    "preLis = []\n",
    "feaLis = []\n",
    "\n",
    "#To index the attributes in Excel by rows (vertically), \n",
    "#Starting with index 1, because first row is field name\n",
    "#Cell_value function finds value in i row of the 4th field from the left, in this case E field of the Excel sheet\n",
    "#For each value that foud in each row of 4th field, append the value to empty list coLis[]\n",
    "#Apply upper() function to standardized the value to ensure consistency \n",
    "for i in range(1,sheet.nrows):\n",
    "    coLis.append(sheet.cell_value(i,4).upper())\n",
    "\n",
    "\n",
    "#Use an Arcpy search cursor to find value in the feature class's attribute table\n",
    "#Look for addresses that are in the FullAddress field of the feature class\n",
    "#Then append each value to the empty list preLis[], (watch out for the data type!! in this step)\n",
    "with arcpy.da.SearchCursor(adp, ['FullAddress']) as cursor:\n",
    "    for row in cursor:\n",
    "        preLis.append(row)\n",
    "\n",
    "\n",
    "#Convert feature class attribute values to a python list data type, therefore append any value in preLis[] to feaLis[]\n",
    "for a in preLis:\n",
    "    feaLis.append(a[0])\n",
    "\n",
    "    \n",
    "\n",
    "#Verify the number of features in Excel file and the number of address in the GIS dataset\n",
    "print(f'The total number of address points in ADCOM_SSAP is',len(feaLis))\n",
    "print(f'The total number of addresses for the respective month of the Excel sheet is',len(coLis))\n",
    "\n",
    "\n",
    "#Validate Data Existence between the Excel file and GIS feature dataset\n",
    "check = all(item in coLis for item in feaLis)\n",
    "\n",
    "#Conditional check\n",
    "if check is True:\n",
    "    print('Nothing new need to be updated!')\n",
    "else:\n",
    "    print('There are new addresses to be added, and they are listing below!!')\n",
    "\n",
    "\n",
    "#print out any addresses that are not in the GIS address point dataset but in the Excel file\n",
    "for item in coLis:\n",
    "    if item not in feaLis:\n",
    "        print(item)\n",
    "\n",
    "#Conclude the operation is completed\n",
    "print('Done!')"
   ]
  }
 ],
 "metadata": {
  "kernelspec": {
   "display_name": "Python 3.9.11",
   "language": "python",
   "name": "python3"
  },
  "language_info": {
   "codemirror_mode": {
    "name": "ipython",
    "version": 3
   },
   "file_extension": ".py",
   "mimetype": "text/x-python",
   "name": "python",
   "nbconvert_exporter": "python",
   "pygments_lexer": "ipython3",
   "version": "3.9.11"
  },
  "orig_nbformat": 4,
  "vscode": {
   "interpreter": {
    "hash": "aca619e79faad7d7958bcec9b6325f8dcba3fcfe24e4c8a46ef1f47fa9a39ce0"
   }
  }
 },
 "nbformat": 4,
 "nbformat_minor": 2
}
